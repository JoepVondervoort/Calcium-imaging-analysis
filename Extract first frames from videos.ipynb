{
 "cells": [
  {
   "cell_type": "markdown",
   "id": "8ea6c255",
   "metadata": {},
   "source": [
    "Extract first frame of a .tif file to perform Stardist analysis and detect cells"
   ]
  },
  {
   "cell_type": "code",
   "execution_count": 1,
   "id": "3bd38cc4",
   "metadata": {},
   "outputs": [
    {
     "name": "stdout",
     "output_type": "stream",
     "text": [
      "Extracted 1 frame from H:/Calcium imaging/20231123\\SCN1A_1_1\\SCN1A_1_1_MMStack_Default.ome.tif\n",
      "Extracted 1 frame from H:/Calcium imaging/20231123\\SCN1A_1_2\\SCN1A_1_2_MMStack_Default.ome.tif\n",
      "Extracted 1 frame from H:/Calcium imaging/20231123\\SCN1A_1_2_2\\SCN1A_1_2_MMStack_Default.ome.tif\n",
      "Extracted 1 frame from H:/Calcium imaging/20231123\\SCN1A_1_3\\SCN1A_1_3_MMStack_Default.ome.tif\n",
      "Extracted 1 frame from H:/Calcium imaging/20231123\\SCN1A_1_4\\SCN1A_1_4_MMStack_Default.ome.tif\n",
      "Extracted 1 frame from H:/Calcium imaging/20231123\\SCN1A_1_5\\SCN1A_1_5_MMStack_Default.ome.tif\n",
      "Extracted 1 frame from H:/Calcium imaging/20231123\\SCN1A_1_PTZ_15min_1\\SCN1A_1_PTZ_15min_1_MMStack_Default.ome.tif\n",
      "Extracted 1 frame from H:/Calcium imaging/20231123\\SCN1A_1_PTZ_5min_1\\SCN1A_1_PTZ_5min_1_MMStack_Default.ome.tif\n",
      "Extracted 1 frame from H:/Calcium imaging/20231123\\SCN1A_1_PTZ_5min_2\\SCN1A_1_PTZ_5min_2_MMStack_Default.ome.tif\n",
      "Extracted 1 frame from H:/Calcium imaging/20231123\\SCN1A_2_1\\SCN1A_2_1_MMStack_Default.ome.tif\n",
      "Extracted 1 frame from H:/Calcium imaging/20231123\\SCN1A_2_2\\SCN1A_2_2_MMStack_Default.ome.tif\n",
      "Extracted 1 frame from H:/Calcium imaging/20231123\\SCN1A_2_2\\WT_1_1\\WT_1_1_MMStack_Default.ome.tif\n",
      "Extracted 1 frame from H:/Calcium imaging/20231123\\SCN1A_2_2\\WT_3_1\\WT_3_1_MMStack_Default.ome.tif\n",
      "Extracted 1 frame from H:/Calcium imaging/20231123\\SCN1A_2_2\\WT_3_2\\WT_3_2_MMStack_Default.ome.tif\n",
      "Extracted 1 frame from H:/Calcium imaging/20231123\\SCN1A_2_2\\WT_3_ptz_1\\WT_3_ptz_1_MMStack_Default.ome.tif\n",
      "Extracted 1 frame from H:/Calcium imaging/20231123\\SCN1A_2_2\\WT_3_ptz_10min_1\\WT_3_ptz_10min_1_MMStack_Default.ome.tif\n",
      "Extracted 1 frame from H:/Calcium imaging/20231123\\SCN1A_2_2\\WT_3_ptz_5min_1\\WT_3_ptz_5min_1_MMStack_Default.ome.tif\n",
      "Extracted 1 frame from H:/Calcium imaging/20231123\\SCN1A_2_3\\SCN1A_2_3_MMStack_Default.ome.tif\n",
      "Extracted 1 frame from H:/Calcium imaging/20231123\\SCN1A_3_1\\SCN1A_3_1_MMStack_Default.ome.tif\n",
      "Extracted 1 frame from H:/Calcium imaging/20231123\\SCN1A_3_2\\SCN1A_3_2_MMStack_Default.ome.tif\n",
      "Extracted 1 frame from H:/Calcium imaging/20231123\\SCN1A_3_PTZ_1min_1\\SCN1A_3_PTZ_1min_1_MMStack_Default.ome.tif\n",
      "Extracted 1 frame from H:/Calcium imaging/20231123\\SCN1A_4_1\\SCN1A_4_1_MMStack_Default.ome.tif\n",
      "Extracted 1 frame from H:/Calcium imaging/20231123\\Scrambled_1_1\\Scrambled_1_1_MMStack_Default.ome.tif\n",
      "Extracted 1 frame from H:/Calcium imaging/20231123\\Scrambled_1_PTZ_1\\Scrambled_1_PTZ_1_MMStack_Default.ome.tif\n",
      "Extracted 1 frame from H:/Calcium imaging/20231123\\Scrambled_2_1\\Scrambled_2_1_MMStack_Default.ome.tif\n",
      "Extracted 1 frame from H:/Calcium imaging/20231123\\Scrambled_2_2\\Scrambled_2_2_MMStack_Default.ome.tif\n",
      "Extracted 1 frame from H:/Calcium imaging/20231123\\Scrambled_2_3\\Scrambled_2_3_MMStack_Default.ome.tif\n",
      "Extracted 1 frame from H:/Calcium imaging/20231123\\Scrambled_3_1\\Scrambled_3_1_MMStack_Default.ome.tif\n",
      "Extracted 1 frame from H:/Calcium imaging/20231123\\Scrambled_3_2\\Scrambled_3_2_MMStack_Default.ome.tif\n",
      "Extracted 1 frame from H:/Calcium imaging/20231123\\Scrambled_3_3\\Scrambled_3_3_MMStack_Default.ome.tif\n",
      "Extracted 1 frame from H:/Calcium imaging/20231123\\Scrambled_3_PTZ_1\\Scrambled_3_PTZ_1_MMStack_Default.ome.tif\n",
      "Extracted 1 frame from H:/Calcium imaging/20231123\\Scrambled_3_PTZ_2\\Scrambled_3_PTZ_2_MMStack_Default.ome.tif\n",
      "Extracted 1 frame from H:/Calcium imaging/20231123\\extracted_frames\\SCN1A_1_1_MMStack_Default.ome_frame1.tif\n",
      "All extracted frames saved to output_folder\n"
     ]
    }
   ],
   "source": [
    "import os\n",
    "from PIL import Image\n",
    "\n",
    "input_folder = \"H:/Calcium imaging/20231123\"\n",
    "output_folder = os.path.join(input_folder, \"extracted_frames\")\n",
    "\n",
    "# Create the output folder if it doesn't exist\n",
    "os.makedirs(output_folder, exist_ok=True)\n",
    "\n",
    "processed_files = set()  # To keep track of processed files\n",
    "\n",
    "for subdir, _, files in os.walk(input_folder):\n",
    "    for file in files:\n",
    "        if file.lower().endswith(\".tif\"):\n",
    "            file_path = os.path.join(subdir, file)\n",
    "            \n",
    "            # Check if we've already processed this file\n",
    "            if file_path in processed_files:\n",
    "                continue\n",
    "            \n",
    "            processed_files.add(file_path)  # Mark this file as processed\n",
    "            \n",
    "            tif_image = Image.open(file_path)\n",
    "\n",
    "            # Extract the first frame only\n",
    "            frame_index = 0\n",
    "            tif_image.seek(frame_index)\n",
    "            extracted_frame = tif_image.copy()\n",
    "\n",
    "            base_filename = os.path.splitext(file)[0]  # Extract the filename without extension\n",
    "            frame_filename = f\"{base_filename}_frame1.tif\"\n",
    "            output_path = os.path.join(output_folder, frame_filename)\n",
    "            extracted_frame.save(output_path)\n",
    "\n",
    "            print(f\"Extracted 1 frame from {file_path}\")\n",
    "            \n",
    "            # Break the loop after processing the first frame\n",
    "            break\n",
    "\n",
    "print(\"All extracted frames saved to output_folder\")"
   ]
  },
  {
   "cell_type": "code",
   "execution_count": null,
   "id": "184eaf54",
   "metadata": {},
   "outputs": [],
   "source": []
  }
 ],
 "metadata": {
  "kernelspec": {
   "display_name": "Python 3 (ipykernel)",
   "language": "python",
   "name": "python3"
  },
  "language_info": {
   "codemirror_mode": {
    "name": "ipython",
    "version": 3
   },
   "file_extension": ".py",
   "mimetype": "text/x-python",
   "name": "python",
   "nbconvert_exporter": "python",
   "pygments_lexer": "ipython3",
   "version": "3.11.3"
  }
 },
 "nbformat": 4,
 "nbformat_minor": 5
}
